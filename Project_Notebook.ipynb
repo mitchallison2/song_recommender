{
 "cells": [
  {
   "cell_type": "markdown",
   "metadata": {
    "id": "waAdkjMubk4O"
   },
   "source": [
    "# Creating a Music Recommender System\n",
    "\n",
    "## Author: Mitch Allison"
   ]
  },
  {
   "cell_type": "markdown",
   "metadata": {
    "id": "A_WQa9Abbk1y"
   },
   "source": [
    "## Project Overview:\n",
    "\n",
    "Music is only good if you can listen to it. We currently have the ability to play any song at any time through streaming services like Spotify or Apple Music.\n",
    "\n",
    "The hard part is finding music that appeals to you. Not everyone likes the same music so it can be difficult to find songs you really like.\n",
    "\n",
    "\n"
   ]
  },
  {
   "cell_type": "markdown",
   "metadata": {
    "id": "Bgc-8Hl8bkzU"
   },
   "source": [
    "## Business Problem:\n",
    "\n",
    "Currently, the streaming market is controlled by a couple of streaming giants. These giants have become houshold names(Spotify, Apple Music, etc).One challenge that these streaming giants face is to keep listeners interested. Capturing these listeners can lead to large monetary gains. Here are some quick stats about the streaming industry:\n",
    "1. Music streaming makes up 84% of the U.S. music industry revenue.\n",
    "2. Global music subscribers surged 26.4% to 523.9 million during the Covid pandemic.\n",
    "3. 82.1 million Americans are paid subscribers to on-demand music streaming.\n",
    "\n",
    "[Source](https://musicalpursuits.com/music-streaming/#:~:text=Music%20streaming%20makes%20up%2084,minutes%20of%20music%20per%20day.)\n",
    "\n",
    "Although most listeners will have a core set of musical interests, such as classic rock, it's important to find fresh music for them to keep them engaged.\n",
    "\n",
    "By creating a recommender system to find fresh music for individuals, we can retain subscribers and increase subscriptions. Although we can have curated playlists available to everyone, such as top pop songs, personalized recommendations are an efficient way to keep listeners invested.\n",
    "\n",
    "My goal with this project was to create a music recommender that could meet the above goals, as well as find some fresh music for my own listening.\n",
    "\n",
    "I wanted to focus primarily on collaboratory-based recommendations versus content-based recommendations. Using classic rock as an example again, finding new classic rock is as easy as looking at a wikipedia page. It's more difficult to find music that can appeal to a classic rock listener."
   ]
  },
  {
   "cell_type": "markdown",
   "metadata": {
    "id": "JtHnlswTbkw8"
   },
   "source": [
    "## Data Understanding\n",
    "\n",
    "The data was collected from ListenBrainz. ListenBrainz is open-source and collects data volunteered from the public about the music they're listening to. The data can be pulled as a query from [Google BigQuery](https://console.cloud.google.com/marketplace/product/metabrainz/listenbrainz?project=listenbrainzrecommender) or as a data dump directly from their [website](https://listenbrainz.org/).\n",
    "\n",
    "This data contains information about the time the song was listened to, the profile that listened to the song, the artist, the album, and the song. There are also unique ID's for each of these datapoints that references an internal corresponding ID in the ListenBrainz API.\n",
    "\n",
    "This data dates from 2005 to 2018. There is some dirty data, in that there are some songs improperly labeled or with an incorrect play date, but these errors make up less than 1% of the total data.\n",
    "\n",
    "I originally wanted to do most of this project on my personal PC, but soon found that this would not be possible for several reasons:\n",
    "1. The data dumps are split into 2 versions: a dump that can be used to setup a ListenBrainz server and a dump of the raw listens. I don't have the knowledge/time to create a server at this time and the raw listens is too large of a file(27GB with 146M rows) to work with on a personal computer.\n",
    "2. In some EDA with the data, I found that my computer did not have the processing capabilites to create a model I was happy with.\n",
    "\n",
    "I found that using Google Colab, in conjunction with Google BigQuery would provide the best options for me to proceed with this project. Throughout this notebook you may see magic commands and queries specific to Colab/BigQuery. It was also very helpful to save dataframes to my google drive for working with other notebooks. This helped conserve memory.\n",
    "\n",
    "The only downside to this approach is that every notebook needs to be authenticated with the appropriate BigQuery/G-Drive, and relevant packages need to be installed in every notebook."
   ]
  },
  {
   "cell_type": "markdown",
   "metadata": {
    "id": "Q0ebAw7dbkul"
   },
   "source": [
    "## Baseline Model:\n",
    "\n",
    "As a dummy model, I created a model that would always recommend the top 25 songs(by listen number). You can look at the original model creation in the [Baseline Model Notebook](baseline.ipynb).\n",
    "\n",
    "Recommender systems can be harder to rate the performance of than other traditional models, such as classification. I'll be using RMSE and MAE of data reinserted into the model to rate the performance of the models."
   ]
  },
  {
   "cell_type": "code",
   "execution_count": null,
   "metadata": {
    "colab": {
     "base_uri": "https://localhost:8080/"
    },
    "executionInfo": {
     "elapsed": 3635,
     "status": "ok",
     "timestamp": 1664920259799,
     "user": {
      "displayName": "Mitch Allison",
      "userId": "00093616107712223191"
     },
     "user_tz": 420
    },
    "id": "NcjqZyVYQjjd",
    "outputId": "46328cd0-2008-4728-c1d1-46a65e4cbba4"
   },
   "outputs": [
    {
     "name": "stdout",
     "output_type": "stream",
     "text": [
      "Looking in indexes: https://pypi.org/simple, https://us-python.pkg.dev/colab-wheels/public/simple/\n",
      "Requirement already satisfied: scikit-surprise in /usr/local/lib/python3.7/dist-packages (1.1.1)\n",
      "Requirement already satisfied: joblib>=0.11 in /usr/local/lib/python3.7/dist-packages (from scikit-surprise) (1.1.0)\n",
      "Requirement already satisfied: six>=1.10.0 in /usr/local/lib/python3.7/dist-packages (from scikit-surprise) (1.15.0)\n",
      "Requirement already satisfied: numpy>=1.11.2 in /usr/local/lib/python3.7/dist-packages (from scikit-surprise) (1.21.6)\n",
      "Requirement already satisfied: scipy>=1.0.0 in /usr/local/lib/python3.7/dist-packages (from scikit-surprise) (1.7.3)\n"
     ]
    }
   ],
   "source": [
    "# install scikit-surprise\n",
    "!pip install scikit-surprise"
   ]
  },
  {
   "cell_type": "code",
   "execution_count": null,
   "metadata": {
    "id": "BzC04oiOH6bJ"
   },
   "outputs": [],
   "source": [
    "# Imports\n",
    "import requests\n",
    "import pandas as pd\n",
    "import numpy as np\n",
    "import matplotlib.pyplot as plt"
   ]
  },
  {
   "cell_type": "code",
   "execution_count": null,
   "metadata": {
    "id": "VSW3AXgLDukT"
   },
   "outputs": [],
   "source": [
    "# Imports continued\n",
    "\n",
    "from surprise import Reader, Dataset, dump\n",
    "from surprise.prediction_algorithms import SVD, SVDpp, KNNBaseline\n",
    "from surprise.model_selection import cross_validate, GridSearchCV, train_test_split"
   ]
  },
  {
   "cell_type": "code",
   "execution_count": null,
   "metadata": {
    "colab": {
     "base_uri": "https://localhost:8080/"
    },
    "executionInfo": {
     "elapsed": 68581,
     "status": "ok",
     "timestamp": 1664920329184,
     "user": {
      "displayName": "Mitch Allison",
      "userId": "00093616107712223191"
     },
     "user_tz": 420
    },
    "id": "2Zw1MgpMIpQ8",
    "outputId": "87b17297-a52b-403b-abe2-ede9b61b0772"
   },
   "outputs": [
    {
     "name": "stdout",
     "output_type": "stream",
     "text": [
      "Authenticated\n"
     ]
    }
   ],
   "source": [
    "# Google imports to run on colab/with drive\n",
    "\n",
    "from google.cloud import bigquery\n",
    "\n",
    "# Authenticate google cloud platform\n",
    "from google.colab import auth\n",
    "auth.authenticate_user()\n",
    "print('Authenticated')\n",
    "\n",
    "# Authenticate google drive\n",
    "from google.colab import drive \n",
    "drive.mount('/drive')"
   ]
  },
  {
   "cell_type": "code",
   "execution_count": null,
   "metadata": {
    "id": "F68YqODRQHYy"
   },
   "outputs": [],
   "source": [
    "# Setup for BigQuery\n",
    "project_id = 'listenbrainzrecommender'\n",
    "client = bigquery.Client(project=project_id)"
   ]
  },
  {
   "cell_type": "code",
   "execution_count": null,
   "metadata": {
    "id": "dQ1IByONHMgK"
   },
   "outputs": [],
   "source": [
    "# Query w/ magic command to get top 25 songs by plays\n",
    "\n",
    "%%bigquery --project listenbrainzrecommender top25songs_alltime\n",
    "SELECT\n",
    "  artist_name,\n",
    "  track_name,\n",
    "  COUNT(user_name) AS song_plays\n",
    "\n",
    "FROM\n",
    "  `listenbrainz.listenbrainz.listen`\n",
    "\n",
    "WHERE\n",
    "  LENGTH(recording_mbid) > 0\n",
    "\n",
    "GROUP BY\n",
    "  artist_name,\n",
    "  track_name\n",
    "\n",
    "ORDER BY\n",
    "  song_plays DESC\n",
    "\n",
    "LIMIT\n",
    "  25"
   ]
  },
  {
   "cell_type": "code",
   "execution_count": null,
   "metadata": {
    "colab": {
     "base_uri": "https://localhost:8080/",
     "height": 833
    },
    "executionInfo": {
     "elapsed": 9,
     "status": "ok",
     "timestamp": 1664920331864,
     "user": {
      "displayName": "Mitch Allison",
      "userId": "00093616107712223191"
     },
     "user_tz": 420
    },
    "id": "KGjHHzKeJJxY",
    "outputId": "4027a8fe-f915-438b-ba4a-555495a49534"
   },
   "outputs": [
    {
     "data": {
      "text/html": [
       "\n",
       "  <div id=\"df-09251387-cc13-455c-a486-39b36f7a12d2\">\n",
       "    <div class=\"colab-df-container\">\n",
       "      <div>\n",
       "<style scoped>\n",
       "    .dataframe tbody tr th:only-of-type {\n",
       "        vertical-align: middle;\n",
       "    }\n",
       "\n",
       "    .dataframe tbody tr th {\n",
       "        vertical-align: top;\n",
       "    }\n",
       "\n",
       "    .dataframe thead th {\n",
       "        text-align: right;\n",
       "    }\n",
       "</style>\n",
       "<table border=\"1\" class=\"dataframe\">\n",
       "  <thead>\n",
       "    <tr style=\"text-align: right;\">\n",
       "      <th></th>\n",
       "      <th>artist_name</th>\n",
       "      <th>track_name</th>\n",
       "      <th>song_plays</th>\n",
       "    </tr>\n",
       "  </thead>\n",
       "  <tbody>\n",
       "    <tr>\n",
       "      <th>0</th>\n",
       "      <td>近藤浩治</td>\n",
       "      <td>Inside the Deku Tree</td>\n",
       "      <td>113342</td>\n",
       "    </tr>\n",
       "    <tr>\n",
       "      <th>1</th>\n",
       "      <td>Michael Z. Land</td>\n",
       "      <td>Docks Background Ambience</td>\n",
       "      <td>49199</td>\n",
       "    </tr>\n",
       "    <tr>\n",
       "      <th>2</th>\n",
       "      <td>Nirvana</td>\n",
       "      <td>Smells Like Teen Spirit</td>\n",
       "      <td>14871</td>\n",
       "    </tr>\n",
       "    <tr>\n",
       "      <th>3</th>\n",
       "      <td>Radiohead</td>\n",
       "      <td>Karma Police</td>\n",
       "      <td>14177</td>\n",
       "    </tr>\n",
       "    <tr>\n",
       "      <th>4</th>\n",
       "      <td>Massive Attack</td>\n",
       "      <td>Teardrop</td>\n",
       "      <td>12995</td>\n",
       "    </tr>\n",
       "    <tr>\n",
       "      <th>5</th>\n",
       "      <td>Radiohead</td>\n",
       "      <td>Paranoid Android</td>\n",
       "      <td>12868</td>\n",
       "    </tr>\n",
       "    <tr>\n",
       "      <th>6</th>\n",
       "      <td>Nirvana</td>\n",
       "      <td>Come as You Are</td>\n",
       "      <td>12555</td>\n",
       "    </tr>\n",
       "    <tr>\n",
       "      <th>7</th>\n",
       "      <td>Led Zeppelin</td>\n",
       "      <td>Stairway to Heaven</td>\n",
       "      <td>12340</td>\n",
       "    </tr>\n",
       "    <tr>\n",
       "      <th>8</th>\n",
       "      <td>Daft Punk</td>\n",
       "      <td>Harder, Better, Faster, Stronger</td>\n",
       "      <td>12177</td>\n",
       "    </tr>\n",
       "    <tr>\n",
       "      <th>9</th>\n",
       "      <td>Gorillaz</td>\n",
       "      <td>Feel Good Inc.</td>\n",
       "      <td>11992</td>\n",
       "    </tr>\n",
       "    <tr>\n",
       "      <th>10</th>\n",
       "      <td>Pink Floyd</td>\n",
       "      <td>Wish You Were Here</td>\n",
       "      <td>11957</td>\n",
       "    </tr>\n",
       "    <tr>\n",
       "      <th>11</th>\n",
       "      <td>Radiohead</td>\n",
       "      <td>Creep</td>\n",
       "      <td>11947</td>\n",
       "    </tr>\n",
       "    <tr>\n",
       "      <th>12</th>\n",
       "      <td>The Killers</td>\n",
       "      <td>Mr. Brightside</td>\n",
       "      <td>11832</td>\n",
       "    </tr>\n",
       "    <tr>\n",
       "      <th>13</th>\n",
       "      <td>Queen</td>\n",
       "      <td>Bohemian Rhapsody</td>\n",
       "      <td>11551</td>\n",
       "    </tr>\n",
       "    <tr>\n",
       "      <th>14</th>\n",
       "      <td>System of a Down</td>\n",
       "      <td>Chop Suey!</td>\n",
       "      <td>11071</td>\n",
       "    </tr>\n",
       "    <tr>\n",
       "      <th>15</th>\n",
       "      <td>Muse</td>\n",
       "      <td>Supermassive Black Hole</td>\n",
       "      <td>10992</td>\n",
       "    </tr>\n",
       "    <tr>\n",
       "      <th>16</th>\n",
       "      <td>M83</td>\n",
       "      <td>Midnight City</td>\n",
       "      <td>10885</td>\n",
       "    </tr>\n",
       "    <tr>\n",
       "      <th>17</th>\n",
       "      <td>Pink Floyd</td>\n",
       "      <td>Time</td>\n",
       "      <td>10765</td>\n",
       "    </tr>\n",
       "    <tr>\n",
       "      <th>18</th>\n",
       "      <td>Pink Floyd</td>\n",
       "      <td>Money</td>\n",
       "      <td>10687</td>\n",
       "    </tr>\n",
       "    <tr>\n",
       "      <th>19</th>\n",
       "      <td>Radiohead</td>\n",
       "      <td>No Surprises</td>\n",
       "      <td>10589</td>\n",
       "    </tr>\n",
       "    <tr>\n",
       "      <th>20</th>\n",
       "      <td>MGMT</td>\n",
       "      <td>Kids</td>\n",
       "      <td>10022</td>\n",
       "    </tr>\n",
       "    <tr>\n",
       "      <th>21</th>\n",
       "      <td>Black Sabbath</td>\n",
       "      <td>Paranoid</td>\n",
       "      <td>9985</td>\n",
       "    </tr>\n",
       "    <tr>\n",
       "      <th>22</th>\n",
       "      <td>Imagine Dragons</td>\n",
       "      <td>Radioactive</td>\n",
       "      <td>9981</td>\n",
       "    </tr>\n",
       "    <tr>\n",
       "      <th>23</th>\n",
       "      <td>The Killers</td>\n",
       "      <td>Somebody Told Me</td>\n",
       "      <td>9937</td>\n",
       "    </tr>\n",
       "    <tr>\n",
       "      <th>24</th>\n",
       "      <td>Muse</td>\n",
       "      <td>Starlight</td>\n",
       "      <td>9923</td>\n",
       "    </tr>\n",
       "  </tbody>\n",
       "</table>\n",
       "</div>\n",
       "      <button class=\"colab-df-convert\" onclick=\"convertToInteractive('df-09251387-cc13-455c-a486-39b36f7a12d2')\"\n",
       "              title=\"Convert this dataframe to an interactive table.\"\n",
       "              style=\"display:none;\">\n",
       "        \n",
       "  <svg xmlns=\"http://www.w3.org/2000/svg\" height=\"24px\"viewBox=\"0 0 24 24\"\n",
       "       width=\"24px\">\n",
       "    <path d=\"M0 0h24v24H0V0z\" fill=\"none\"/>\n",
       "    <path d=\"M18.56 5.44l.94 2.06.94-2.06 2.06-.94-2.06-.94-.94-2.06-.94 2.06-2.06.94zm-11 1L8.5 8.5l.94-2.06 2.06-.94-2.06-.94L8.5 2.5l-.94 2.06-2.06.94zm10 10l.94 2.06.94-2.06 2.06-.94-2.06-.94-.94-2.06-.94 2.06-2.06.94z\"/><path d=\"M17.41 7.96l-1.37-1.37c-.4-.4-.92-.59-1.43-.59-.52 0-1.04.2-1.43.59L10.3 9.45l-7.72 7.72c-.78.78-.78 2.05 0 2.83L4 21.41c.39.39.9.59 1.41.59.51 0 1.02-.2 1.41-.59l7.78-7.78 2.81-2.81c.8-.78.8-2.07 0-2.86zM5.41 20L4 18.59l7.72-7.72 1.47 1.35L5.41 20z\"/>\n",
       "  </svg>\n",
       "      </button>\n",
       "      \n",
       "  <style>\n",
       "    .colab-df-container {\n",
       "      display:flex;\n",
       "      flex-wrap:wrap;\n",
       "      gap: 12px;\n",
       "    }\n",
       "\n",
       "    .colab-df-convert {\n",
       "      background-color: #E8F0FE;\n",
       "      border: none;\n",
       "      border-radius: 50%;\n",
       "      cursor: pointer;\n",
       "      display: none;\n",
       "      fill: #1967D2;\n",
       "      height: 32px;\n",
       "      padding: 0 0 0 0;\n",
       "      width: 32px;\n",
       "    }\n",
       "\n",
       "    .colab-df-convert:hover {\n",
       "      background-color: #E2EBFA;\n",
       "      box-shadow: 0px 1px 2px rgba(60, 64, 67, 0.3), 0px 1px 3px 1px rgba(60, 64, 67, 0.15);\n",
       "      fill: #174EA6;\n",
       "    }\n",
       "\n",
       "    [theme=dark] .colab-df-convert {\n",
       "      background-color: #3B4455;\n",
       "      fill: #D2E3FC;\n",
       "    }\n",
       "\n",
       "    [theme=dark] .colab-df-convert:hover {\n",
       "      background-color: #434B5C;\n",
       "      box-shadow: 0px 1px 3px 1px rgba(0, 0, 0, 0.15);\n",
       "      filter: drop-shadow(0px 1px 2px rgba(0, 0, 0, 0.3));\n",
       "      fill: #FFFFFF;\n",
       "    }\n",
       "  </style>\n",
       "\n",
       "      <script>\n",
       "        const buttonEl =\n",
       "          document.querySelector('#df-09251387-cc13-455c-a486-39b36f7a12d2 button.colab-df-convert');\n",
       "        buttonEl.style.display =\n",
       "          google.colab.kernel.accessAllowed ? 'block' : 'none';\n",
       "\n",
       "        async function convertToInteractive(key) {\n",
       "          const element = document.querySelector('#df-09251387-cc13-455c-a486-39b36f7a12d2');\n",
       "          const dataTable =\n",
       "            await google.colab.kernel.invokeFunction('convertToInteractive',\n",
       "                                                     [key], {});\n",
       "          if (!dataTable) return;\n",
       "\n",
       "          const docLinkHtml = 'Like what you see? Visit the ' +\n",
       "            '<a target=\"_blank\" href=https://colab.research.google.com/notebooks/data_table.ipynb>data table notebook</a>'\n",
       "            + ' to learn more about interactive tables.';\n",
       "          element.innerHTML = '';\n",
       "          dataTable['output_type'] = 'display_data';\n",
       "          await google.colab.output.renderOutput(dataTable, element);\n",
       "          const docLink = document.createElement('div');\n",
       "          docLink.innerHTML = docLinkHtml;\n",
       "          element.appendChild(docLink);\n",
       "        }\n",
       "      </script>\n",
       "    </div>\n",
       "  </div>\n",
       "  "
      ],
      "text/plain": [
       "         artist_name                        track_name  song_plays\n",
       "0               近藤浩治              Inside the Deku Tree      113342\n",
       "1    Michael Z. Land         Docks Background Ambience       49199\n",
       "2            Nirvana           Smells Like Teen Spirit       14871\n",
       "3          Radiohead                      Karma Police       14177\n",
       "4     Massive Attack                          Teardrop       12995\n",
       "5          Radiohead                  Paranoid Android       12868\n",
       "6            Nirvana                   Come as You Are       12555\n",
       "7       Led Zeppelin                Stairway to Heaven       12340\n",
       "8          Daft Punk  Harder, Better, Faster, Stronger       12177\n",
       "9           Gorillaz                    Feel Good Inc.       11992\n",
       "10        Pink Floyd                Wish You Were Here       11957\n",
       "11         Radiohead                             Creep       11947\n",
       "12       The Killers                    Mr. Brightside       11832\n",
       "13             Queen                 Bohemian Rhapsody       11551\n",
       "14  System of a Down                        Chop Suey!       11071\n",
       "15              Muse           Supermassive Black Hole       10992\n",
       "16               M83                     Midnight City       10885\n",
       "17        Pink Floyd                              Time       10765\n",
       "18        Pink Floyd                             Money       10687\n",
       "19         Radiohead                      No Surprises       10589\n",
       "20              MGMT                              Kids       10022\n",
       "21     Black Sabbath                          Paranoid        9985\n",
       "22   Imagine Dragons                       Radioactive        9981\n",
       "23       The Killers                  Somebody Told Me        9937\n",
       "24              Muse                         Starlight        9923"
      ]
     },
     "execution_count": 7,
     "metadata": {},
     "output_type": "execute_result"
    }
   ],
   "source": [
    "top25songs_alltime"
   ]
  },
  {
   "cell_type": "markdown",
   "metadata": {
    "id": "iUPRPL8qbkr5"
   },
   "source": [
    "# Data Preparation: Part 1\n",
    "\n",
    "## [EDA_Songclass](EDA_songclass.ipynb)\n",
    "\n",
    "We can see that some songs are overplayed versus their relative popularity. The top 2 songs are relatively unknown. This reveal would lead to some data engineering in the following steps.\n",
    "\n",
    "The original plan was to create a 'song' class, which would be able to work with the ListenBrainz API and Spotify API to retrieve songs and pertinent song data.\n",
    "\n",
    "However, this approach had some obvious issues.\n",
    "1. Sending a query for every song would take far too long.\n",
    "2. Working with the ListenBrainz API proved too difficult to figure out in order to get simple data.\n",
    "\n",
    "![ListenBrainzSchema](./Graphs/listenbrainz_schema.png)\n",
    "\n",
    "3. Creating a class for every song just wouldn't be very useful at the end of the day.\n",
    "4. Looking at songs with their unique MBID's wasn't any more helpful than retrieving the song artist/name.\n",
    "\n",
    "For these reasons I dropped this approach.\n",
    "\n",
    "The data is setup to have one row per listen. There are no ratings associated with this data, which will be an issue we will try to amend in a variety of ways.\n",
    "\n",
    "Based on some preliminary analysis, most people only listen to a song a single time. This leads to a 'long tail problem' which is ripe for a recommender system.\n",
    "\n",
    "![Frequency_of_plays_original](./Graphs/frequency_plays.jpg)"
   ]
  },
  {
   "cell_type": "code",
   "execution_count": null,
   "metadata": {
    "id": "zxfVp5kUk6kd"
   },
   "outputs": [],
   "source": [
    "# v2 song class\n",
    "class Song:\n",
    "  def __init__(self, artist_name, song_name):\n",
    "    self.artist_name = artist_name\n",
    "    self.song_name = song_name\n",
    "  \n",
    "  def get_listener_list(self):\n",
    "    '''\n",
    "    Gets the listeners for a given song.\n",
    "    Does not take into account the amount an account has listened to a song.\n",
    "    Returns a dataframe.\n",
    "    '''\n",
    "    self.listeners = client.query('''\n",
    "      SELECT\n",
    "        user_name\n",
    "      FROM\n",
    "        `listenbrainz.listenbrainz.listen`\n",
    "      WHERE\n",
    "        artist_name = \\''''\n",
    "      + self.artist_name + '''\\'\n",
    "        AND\n",
    "        track_name = \\''''\n",
    "      + self.song_name + '''\\'\n",
    "      GROUP BY\n",
    "        user_name\n",
    "      ''').to_dataframe()\n",
    "\n",
    "    return self.listeners"
   ]
  },
  {
   "cell_type": "markdown",
   "metadata": {
    "id": "QQDfeG3RLzus"
   },
   "source": [
    "# FSM\n",
    "\n",
    "## [FSM1](FSM1.ipynb)\n",
    "## [FSM2](FSM2.ipynb)\n",
    "\n",
    "In the first try to create an FSM, I did not have my data in a good format to create a sparce matrix for SVD. In the second attempt, I collected the first 1000 rows to try and create an FSM. 1k rows of data wasn't enough to get a model that predicted anything however, and so we had to increase the rows to 10k.\n",
    "\n",
    "At this point, we also implemented SVD++, which is the only surprise prediction algorithm that can use implicit data. At this point it's important to note that we still don't have any ratings for these listens."
   ]
  },
  {
   "cell_type": "code",
   "execution_count": null,
   "metadata": {
    "colab": {
     "base_uri": "https://localhost:8080/"
    },
    "executionInfo": {
     "elapsed": 72778,
     "status": "ok",
     "timestamp": 1664920404635,
     "user": {
      "displayName": "Mitch Allison",
      "userId": "00093616107712223191"
     },
     "user_tz": 420
    },
    "id": "0wHYvh1mP5sn",
    "outputId": "ff81794b-1226-43de-9d51-195db98ef3b7"
   },
   "outputs": [
    {
     "name": "stdout",
     "output_type": "stream",
     "text": [
      "Number of users:  451 \n",
      "\n",
      "Number of items:  9908\n",
      "('test_rmse', array([0.00837746, 0.00893057, 0.01010694, 0.00910788, 0.0090476 ]))\n",
      "('test_mae', array([0.00497133, 0.00526562, 0.00536348, 0.00541804, 0.00517294]))\n",
      "('fit_time', (16.07310390472412, 16.873575687408447, 16.402353525161743, 17.31503176689148, 11.390825271606445))\n",
      "('test_time', (0.018414735794067383, 0.01854705810546875, 0.019716262817382812, 0.04555010795593262, 0.011111736297607422))\n",
      "-----------------------\n"
     ]
    },
    {
     "data": {
      "text/plain": [
       "0.009114089059302626"
      ]
     },
     "execution_count": 9,
     "metadata": {},
     "output_type": "execute_result"
    }
   ],
   "source": [
    "# Excerpt from FSM2\n",
    "\n",
    "# get user-song plays\n",
    "plays_10000 = client.query('''\n",
    "SELECT\n",
    "  user_name, artist_name, track_name\n",
    "FROM\n",
    "  `listenbrainz.listenbrainz.listen`\n",
    "GROUP BY\n",
    "  user_name, artist_name, track_name\n",
    "LIMIT\n",
    "  10000\n",
    "''').to_dataframe()\n",
    "\n",
    "# function to get custom song_id\n",
    "def get_song_id(s):\n",
    "  try:\n",
    "    return song_df_cl[(song_df_cl['artist_name'].eq(s['artist_name'])) &\n",
    "                       (song_df_cl['track_name'].eq(s['track_name']))].index.item()\n",
    "  except IndexError:\n",
    "    pass\n",
    "\n",
    "# create df for only songs, to create unique id's for songs\n",
    "# unique id will be index\n",
    "song_df = plays_10000[['artist_name', 'track_name']]\n",
    "song_df.head()\n",
    "\n",
    "# drop duplicate songs\n",
    "song_df_cl = song_df.drop_duplicates()\n",
    "song_df_cl.head()\n",
    "\n",
    "plays_10000['song_id'] = plays_10000.apply(get_song_id, axis=1)\n",
    "\n",
    "plays_10000.drop(columns=['artist_name','track_name'], inplace=True)\n",
    "plays_10000['song_score'] = 3\n",
    "\n",
    "# read in values as Surprise dataset \n",
    "reader = Reader()\n",
    "data = Dataset.load_from_df(plays_10000, reader)\n",
    "\n",
    "# Examine users and items\n",
    "dataset = data.build_full_trainset()\n",
    "print('Number of users: ', dataset.n_users, '\\n')\n",
    "print('Number of items: ', dataset.n_items)\n",
    "\n",
    "# Trying SVD++ with default hyperparameters\n",
    "svdpp = SVDpp()\n",
    "cv_svdpp = cross_validate(svdpp, data, n_jobs=-1)\n",
    "\n",
    "# print out the average score for the test set\n",
    "for i in cv_svdpp.items():\n",
    "    print(i)\n",
    "print('-----------------------')\n",
    "np.mean(cv_svdpp['test_rmse'])"
   ]
  },
  {
   "cell_type": "markdown",
   "metadata": {
    "id": "asHs8LCFSxM3"
   },
   "source": [
    "## FSM Performance Statistics\n",
    "\n",
    "We can see here that we have created an FSM, but it's hard to say how well it did.\n",
    "\n",
    "We can see that the test has a very low RMSE and MAE, but it's not a very good model! We know that this model was trained on 10k rows, but contains 9908 different songs. This means that there are only 92 songs in common with other listeners. The model can basically say that each listener is unique and isn't wrong in that prediction."
   ]
  },
  {
   "cell_type": "markdown",
   "metadata": {
    "id": "DqefF0CzNGA3"
   },
   "source": [
    "# Data Preparation: Part 2\n",
    "\n",
    "## [Data_prep1](Data_prep1.ipynb)\n",
    "\n",
    "In preparing the data for more complex modeling, I started running into serious issues. To be honest this is where the brunt of the project took place.\n",
    "\n",
    "The first issue was with the data size and queries. My goal was to load in as much data as possible, and I was advised to load it all in and then work off of the dataframe. Pandas dataframes can hold up to 100Gb so I didn't predict any problems initially with loading in the 27 Gb of data, especially since I would only be loading in a couple of columns.\n",
    "\n",
    "However, I ran into significant issues when loading in the data.\n",
    "1. Even with the ability for Colab to load data directly from BigQuery, it took a very very long time to load in data.\n",
    "2. Even with the upgrade to Colab Pro, which allocates 25gb of ram to projects, I could not pull all the data. When pulling less than 25gb of data, the data would still go over memory.\n",
    "\n",
    "The solution that I ended up with was to only load a portion of the data, split up by year. I loaded data from 2016 onward, which contained 37M rows of data. Although this is only a small portion of the total data, this was the most I could work with in a non-cloud environment. This data was about 1.2Gb, and I saved it so that I would not have to wait to pull it every time.\n",
    "\n",
    "I had also not previously worked with `timestamp` datatypes so that was fun to learn as well.\n",
    "\n",
    "I also data engineered a new variable called `song_no`. I extracted the artist name/song name from the original dataframe, deleted repeated rows, and created a unique id for every song. This way we could save on df size in the main dataframe and also reference songs by a single integer. We'll be using this more late when we make our predictions."
   ]
  },
  {
   "cell_type": "code",
   "execution_count": null,
   "metadata": {
    "id": "_72JAAggazuu"
   },
   "outputs": [],
   "source": [
    "#standardSQL\n",
    "# Went over memory, took hours to get there\n",
    "query1 = \"\"\"\n",
    "SELECT\n",
    "  *\n",
    "FROM\n",
    "  `listenbrainz.listenbrainz.listen`\n",
    "\"\"\"\n",
    "\n",
    "# Went over memory, even when loading only 3 of 12 fields\n",
    "query2 = \"\"\"\n",
    "SELECT\n",
    "  user_name,\n",
    "  artist_name,\n",
    "  track_name\n",
    "FROM\n",
    "  `listenbrainz.listenbrainz.listen`\n",
    "\"\"\"\n",
    "# get all plays >= year 2016\n",
    "# Still takes a long time(2 hours) to pull\n",
    "query3 = '''\n",
    "SELECT\n",
    "  user_name, artist_name, track_name\n",
    "FROM\n",
    "  `listenbrainz.listenbrainz.listen`\n",
    "WHERE\n",
    "  listened_at > '2016-01-01 00:00:00 UTC'\n",
    "'''"
   ]
  },
  {
   "cell_type": "code",
   "execution_count": null,
   "metadata": {
    "colab": {
     "base_uri": "https://localhost:8080/",
     "height": 206
    },
    "executionInfo": {
     "elapsed": 7619,
     "status": "ok",
     "timestamp": 1664920412252,
     "user": {
      "displayName": "Mitch Allison",
      "userId": "00093616107712223191"
     },
     "user_tz": 420
    },
    "id": "ZRJ6O9J8bjJt",
    "outputId": "dae5919d-0cdb-4a6f-8da0-70e303025816"
   },
   "outputs": [
    {
     "data": {
      "text/html": [
       "\n",
       "  <div id=\"df-2195ad22-259b-4565-ae9c-829e2ab02e63\">\n",
       "    <div class=\"colab-df-container\">\n",
       "      <div>\n",
       "<style scoped>\n",
       "    .dataframe tbody tr th:only-of-type {\n",
       "        vertical-align: middle;\n",
       "    }\n",
       "\n",
       "    .dataframe tbody tr th {\n",
       "        vertical-align: top;\n",
       "    }\n",
       "\n",
       "    .dataframe thead th {\n",
       "        text-align: right;\n",
       "    }\n",
       "</style>\n",
       "<table border=\"1\" class=\"dataframe\">\n",
       "  <thead>\n",
       "    <tr style=\"text-align: right;\">\n",
       "      <th></th>\n",
       "      <th>artist_name</th>\n",
       "      <th>track_name</th>\n",
       "      <th>song_no</th>\n",
       "    </tr>\n",
       "  </thead>\n",
       "  <tbody>\n",
       "    <tr>\n",
       "      <th>0</th>\n",
       "      <td>Katy B X Mr. Mitch</td>\n",
       "      <td>Heavy</td>\n",
       "      <td>0</td>\n",
       "    </tr>\n",
       "    <tr>\n",
       "      <th>1</th>\n",
       "      <td>These Hidden Hands</td>\n",
       "      <td>SZ31X71</td>\n",
       "      <td>1</td>\n",
       "    </tr>\n",
       "    <tr>\n",
       "      <th>2</th>\n",
       "      <td>Esben and the Witch</td>\n",
       "      <td>Marking the Heart of a Serpent</td>\n",
       "      <td>2</td>\n",
       "    </tr>\n",
       "    <tr>\n",
       "      <th>3</th>\n",
       "      <td>death's dynamic shroud.wmv</td>\n",
       "      <td>Loving Is Easy</td>\n",
       "      <td>3</td>\n",
       "    </tr>\n",
       "    <tr>\n",
       "      <th>4</th>\n",
       "      <td>Fuzz</td>\n",
       "      <td>What's In My Head?</td>\n",
       "      <td>4</td>\n",
       "    </tr>\n",
       "  </tbody>\n",
       "</table>\n",
       "</div>\n",
       "      <button class=\"colab-df-convert\" onclick=\"convertToInteractive('df-2195ad22-259b-4565-ae9c-829e2ab02e63')\"\n",
       "              title=\"Convert this dataframe to an interactive table.\"\n",
       "              style=\"display:none;\">\n",
       "        \n",
       "  <svg xmlns=\"http://www.w3.org/2000/svg\" height=\"24px\"viewBox=\"0 0 24 24\"\n",
       "       width=\"24px\">\n",
       "    <path d=\"M0 0h24v24H0V0z\" fill=\"none\"/>\n",
       "    <path d=\"M18.56 5.44l.94 2.06.94-2.06 2.06-.94-2.06-.94-.94-2.06-.94 2.06-2.06.94zm-11 1L8.5 8.5l.94-2.06 2.06-.94-2.06-.94L8.5 2.5l-.94 2.06-2.06.94zm10 10l.94 2.06.94-2.06 2.06-.94-2.06-.94-.94-2.06-.94 2.06-2.06.94z\"/><path d=\"M17.41 7.96l-1.37-1.37c-.4-.4-.92-.59-1.43-.59-.52 0-1.04.2-1.43.59L10.3 9.45l-7.72 7.72c-.78.78-.78 2.05 0 2.83L4 21.41c.39.39.9.59 1.41.59.51 0 1.02-.2 1.41-.59l7.78-7.78 2.81-2.81c.8-.78.8-2.07 0-2.86zM5.41 20L4 18.59l7.72-7.72 1.47 1.35L5.41 20z\"/>\n",
       "  </svg>\n",
       "      </button>\n",
       "      \n",
       "  <style>\n",
       "    .colab-df-container {\n",
       "      display:flex;\n",
       "      flex-wrap:wrap;\n",
       "      gap: 12px;\n",
       "    }\n",
       "\n",
       "    .colab-df-convert {\n",
       "      background-color: #E8F0FE;\n",
       "      border: none;\n",
       "      border-radius: 50%;\n",
       "      cursor: pointer;\n",
       "      display: none;\n",
       "      fill: #1967D2;\n",
       "      height: 32px;\n",
       "      padding: 0 0 0 0;\n",
       "      width: 32px;\n",
       "    }\n",
       "\n",
       "    .colab-df-convert:hover {\n",
       "      background-color: #E2EBFA;\n",
       "      box-shadow: 0px 1px 2px rgba(60, 64, 67, 0.3), 0px 1px 3px 1px rgba(60, 64, 67, 0.15);\n",
       "      fill: #174EA6;\n",
       "    }\n",
       "\n",
       "    [theme=dark] .colab-df-convert {\n",
       "      background-color: #3B4455;\n",
       "      fill: #D2E3FC;\n",
       "    }\n",
       "\n",
       "    [theme=dark] .colab-df-convert:hover {\n",
       "      background-color: #434B5C;\n",
       "      box-shadow: 0px 1px 3px 1px rgba(0, 0, 0, 0.15);\n",
       "      filter: drop-shadow(0px 1px 2px rgba(0, 0, 0, 0.3));\n",
       "      fill: #FFFFFF;\n",
       "    }\n",
       "  </style>\n",
       "\n",
       "      <script>\n",
       "        const buttonEl =\n",
       "          document.querySelector('#df-2195ad22-259b-4565-ae9c-829e2ab02e63 button.colab-df-convert');\n",
       "        buttonEl.style.display =\n",
       "          google.colab.kernel.accessAllowed ? 'block' : 'none';\n",
       "\n",
       "        async function convertToInteractive(key) {\n",
       "          const element = document.querySelector('#df-2195ad22-259b-4565-ae9c-829e2ab02e63');\n",
       "          const dataTable =\n",
       "            await google.colab.kernel.invokeFunction('convertToInteractive',\n",
       "                                                     [key], {});\n",
       "          if (!dataTable) return;\n",
       "\n",
       "          const docLinkHtml = 'Like what you see? Visit the ' +\n",
       "            '<a target=\"_blank\" href=https://colab.research.google.com/notebooks/data_table.ipynb>data table notebook</a>'\n",
       "            + ' to learn more about interactive tables.';\n",
       "          element.innerHTML = '';\n",
       "          dataTable['output_type'] = 'display_data';\n",
       "          await google.colab.output.renderOutput(dataTable, element);\n",
       "          const docLink = document.createElement('div');\n",
       "          docLink.innerHTML = docLinkHtml;\n",
       "          element.appendChild(docLink);\n",
       "        }\n",
       "      </script>\n",
       "    </div>\n",
       "  </div>\n",
       "  "
      ],
      "text/plain": [
       "                  artist_name                      track_name  song_no\n",
       "0          Katy B X Mr. Mitch                           Heavy        0\n",
       "1          These Hidden Hands                         SZ31X71        1\n",
       "2         Esben and the Witch  Marking the Heart of a Serpent        2\n",
       "3  death's dynamic shroud.wmv                  Loving Is Easy        3\n",
       "4                        Fuzz              What's In My Head?        4"
      ]
     },
     "execution_count": 11,
     "metadata": {},
     "output_type": "execute_result"
    }
   ],
   "source": [
    "# Excerpt from Data_prep1\n",
    "\n",
    "# create df for only songs, to create unique id's for songs\n",
    "# unique id will be index\n",
    "# song_df = big_plays[['artist_name', 'track_name']]\n",
    "\n",
    "# drop duplicate songs\n",
    "# song_df_cl = song_df.drop_duplicates()\n",
    "\n",
    "# song_df_cl['song_no'] = song_df_cl.index\n",
    "\n",
    "# load in cleaned song list\n",
    "song_df_cl = pd.read_csv('/drive/My Drive/Colab Notebooks/song_table.csv')\n",
    "song_df_cl.drop(columns=['Unnamed: 0'], inplace=True)\n",
    "song_df_cl.head()"
   ]
  },
  {
   "cell_type": "markdown",
   "metadata": {
    "id": "QIVT5S8udumJ"
   },
   "source": [
    "# Data Preparation: Part 3\n",
    "\n",
    "## [Create_ratings1](Create_ratings1.ipynb)\n",
    "\n",
    "The next problem we would need to fix is the issue of missing explicit ratings. Does a single listen to a song carry equal weight as a listen to another song?\n",
    "A couple of key facts informed our next steps:\n",
    "1. A listen is defined as 1 user listening to 1 song. The song must be played more than halfway through or for 4 minutes, whichever comes first, in order to be registered as a listen.\n",
    "2. There isn't a normal distribution for plays per person per song. Most people listen to a song a single time.\n",
    "3. There are a very small amount of people who listen to a song many times.(One person listend to one song over 6k times!)\n",
    "\n",
    "I decided to create a rating of 1-5 per user per song based on how many times the person played that song. This distribution was based on the relative distribution of plays. Even after limiting the max amount of plays to 100, any plays above 20 aren't even visable.\n",
    "![Frequency_of_plays_max100](./Graphs/frequency_plays2.jpg)"
   ]
  },
  {
   "cell_type": "code",
   "execution_count": null,
   "metadata": {
    "id": "t7Rp15xzXvkX"
   },
   "outputs": [],
   "source": [
    "# Minimum rating = 3\n",
    "# listens['rating'] = 3\n",
    "\n",
    "# 75%: 2 listens. rating = 4\n",
    "# listens.loc[listens['listen_no'] == 2, 'rating'] = 4\n",
    "\n",
    "# 75%+: >2 listens. rating = 5\n",
    "# listens.loc[listens['listen_no'] > 2, 'rating'] = 5"
   ]
  },
  {
   "cell_type": "markdown",
   "metadata": {
    "id": "B0ncnKTFgPWF"
   },
   "source": [
    "# Modeling: Part 1\n",
    "\n",
    "## [GS1](GS1.ipynb)\n",
    "\n",
    "For our first round of modeling/gridsearching, we used the data prepped in [Create_ratings1]. This data had 2643 users and 4M+ items. I wanted data that would be able to be modeled by a sparce matrix and modeled with Singular Value Decomposition(SVD). The issue here is that there are just too many options and the created matrix goes over memory(25+Gb).\n",
    "\n",
    "I would need to go back and continue to work on the data."
   ]
  },
  {
   "cell_type": "markdown",
   "metadata": {
    "id": "PJKP6l9xhbEr"
   },
   "source": [
    "# Data Preparation: Part 4\n",
    "\n",
    "## [Create_ratings2](Create_ratings2.ipynb)\n",
    "\n",
    "Our goal here was to reduce the amount of data present so that I could model it using SVD. We did two things here:\n",
    "\n",
    "1. Eliminate all listens where 1 person listened to a song 1 time. Although this drops a significant amount of data, our goal here is to do just that in order to model it using SVD.\n",
    "2. Create a new rating system, where the rating equals the amount of times the person listened to the song, maxed out at 10."
   ]
  },
  {
   "cell_type": "markdown",
   "metadata": {
    "id": "yjCyAwOGmCnm"
   },
   "source": [
    "# Modeling: Part 2\n",
    "\n",
    "## [GS2](GS2.ipynb)\n",
    "\n",
    "Using the data from [Create_ratings2](Create_ratings2.ipynb), I would gridsearch across many surprise predictors to see which predictor would give the best performance metrics.\n",
    "\n",
    "With metrics that could predict along user or items, I had to specify along users. The issue was that there were just too many items(2M+) when compared to the amount of users(2.5k).\n",
    "\n",
    "It's also important to note that I could still only used memory-based predictors, as creating a sparse matrix still went over memory."
   ]
  },
  {
   "cell_type": "code",
   "execution_count": null,
   "metadata": {
    "id": "bsCVZOQahaKB"
   },
   "outputs": [],
   "source": [
    "# Sample of GridsearchCV from GS2\n",
    "\n",
    "# determining the optimal algorithm parameters with GridSearchCV\n",
    "# Memory based\n",
    "# KNNBaseline\n",
    "# User based\n",
    "\n",
    "sim_options = {\n",
    "    \"name\": [\"pearson\"],\n",
    "    \"k\": [20, 40, 60],\n",
    "    \"min_k\": [1, 2, 3],\n",
    "    \"user_based\": [True],\n",
    "}\n",
    "\n",
    "param_grid = {\"sim_options\": sim_options}\n",
    "\n",
    "gs_KNNb = GridSearchCV(KNNBaseline, param_grid, cv=5, joblib_verbose=5)\n",
    "\n",
    "# gs_KNNb.fit(data)\n",
    "# 71 min to run\n",
    "\n",
    "# gs_KNNb.best_params\n",
    "\n",
    "# {'rmse': {'sim_options': {'name': 'pearson',\n",
    "#    'k': 20,\n",
    "#    'min_k': 1,\n",
    "#    'user_based': True}},\n",
    "#  'mae': {'sim_options': {'name': 'pearson',\n",
    "#    'k': 20,\n",
    "#    'min_k': 1,\n",
    "#    'user_based': True}}}\n",
    "\n",
    "# gs_KNNb.best_score\n",
    "\n",
    "# {'rmse': 2.611438296260585, 'mae': 1.999188842719161}"
   ]
  },
  {
   "cell_type": "markdown",
   "metadata": {
    "id": "Eg2NeMxOnxpA"
   },
   "source": [
    "These are the predictors, their optimal parameters, and the resulting performance metrics. (Rating scale of 2-10)\n",
    "\n",
    "* Algorithm: KNNWithMeans\n",
    "  * Parameters: name: pearson, min_support: 1\n",
    "  * Metrics:\n",
    "    * RMSE: 2.682\n",
    "    * MAE: 2.100\n",
    "* Algorithm: KNNBaseline\n",
    "  * Parameters: name: pearson, k: 20, min_k: 1\n",
    "  * Metrics:\n",
    "    * RMSE: 2.611\n",
    "    * MAE: 1.999\n",
    "* Algorithm: CoClustering\n",
    "  * Parameters: n_cltr_u: 3, n_cltr_i: 3, n_epochs: 20\n",
    "  * Metrics: \n",
    "    * RMSE: 2.767\n",
    "    * MAE: 2.160"
   ]
  },
  {
   "cell_type": "markdown",
   "metadata": {
    "id": "IxLB_5clqPvr"
   },
   "source": [
    "# Data Preparation: Part 5\n",
    "\n",
    "## [Create_ratings3](Create_ratings3.ipynb)\n",
    "\n",
    "At this point, we've found the core issue with creating our SVD model: there are just too many items. Here is the fix that we went with in order to model with SVD:\n",
    "1. Previously I'd gotten rid of all listens with 1 play per song. Instead, we'll only look at listens from the top played songs.\n",
    "2. Create a dataframe with only the top 10k songs for gridsearching.\n",
    "3. First limit plays per person per song at 10 in order to help curb drastic outliers of 1 person listening to 1 song thousands of times.\n",
    "4. After gridsearching, we'll create our final model with data for the top 100k songs, or 1M songs if possible.\n",
    "5. Try the modeling with a custom rating of 1-5, as well as the rating of 1-10 based on song plays.\n",
    "\n",
    "![Frequency_of_plays_1Mmaxsongs](./Graphs/frequency_plays_engineered.jpg)"
   ]
  },
  {
   "cell_type": "markdown",
   "metadata": {
    "id": "KFxlqyEDr3fO"
   },
   "source": [
    "# Modeling: Part 3\n",
    "\n",
    "## [GS3](GS3.ipynb)\n",
    "\n",
    "At this point we have finally reduced our data size enough to model with SVD. Our gridsearch dataframe has 1.3M rows, with 2.5k users and 10k items. This is with ratings from 1-10.\n",
    "\n",
    "Here are the optimal parameters for SVD:\n",
    "  * Parameters: n_factors: 150, reg_all: 0.1\n",
    "  * Metrics: \n",
    "    * RMSE: 2.409\n",
    "    * MAE: 1.784\n",
    "\n",
    "I also examined the augmented score, where the score was changed to 1-5.\n",
    "  * Parameters: n_factors: 150, reg_all: 0.09\n",
    "  * Metrics: \n",
    "    * RMSE: 1.199\n",
    "    * MAE: 0.956\n",
    "\n"
   ]
  },
  {
   "cell_type": "code",
   "execution_count": null,
   "metadata": {
    "colab": {
     "base_uri": "https://localhost:8080/",
     "height": 295
    },
    "executionInfo": {
     "elapsed": 221,
     "status": "ok",
     "timestamp": 1665041445168,
     "user": {
      "displayName": "Mitch Allison",
      "userId": "00093616107712223191"
     },
     "user_tz": 420
    },
    "id": "Kp6RLhDEFwFW",
    "outputId": "0222bcc1-48c0-4a57-e608-4f1a11737872"
   },
   "outputs": [
    {
     "data": {
      "image/png": "[encoded data removed]",
      "text/plain": [
       "<Figure size 504x288 with 1 Axes>"
      ]
     },
     "metadata": {
      "needs_background": "light"
     },
     "output_type": "display_data"
    }
   ],
   "source": [
    "model_performance_RMSE = {\n",
    "    'SVD':2.409,\n",
    "    'KNNBaseline':2.611,\n",
    "    'KNNWithMeans':2.682,\n",
    "    'CoClustering':2.767\n",
    "}\n",
    "\n",
    "models = list(model_performance_RMSE.keys())\n",
    "rmse = list(model_performance_RMSE.values())\n",
    "  \n",
    "fig = plt.figure(figsize = (7, 4))\n",
    " \n",
    "# creating the bar plot\n",
    "plt.bar(models, rmse, color ='blue',\n",
    "        width = 0.7)\n",
    " \n",
    "plt.title(\"RMSE of Optimized Models\")\n",
    "plt.ylabel(\"RMSE\")\n",
    "plt.xlabel(\"Models\")\n",
    "plt.show()"
   ]
  },
  {
   "cell_type": "code",
   "execution_count": null,
   "metadata": {
    "colab": {
     "base_uri": "https://localhost:8080/",
     "height": 295
    },
    "executionInfo": {
     "elapsed": 410,
     "status": "ok",
     "timestamp": 1665041459706,
     "user": {
      "displayName": "Mitch Allison",
      "userId": "00093616107712223191"
     },
     "user_tz": 420
    },
    "id": "Ovk9k-bOMOYe",
    "outputId": "443e7e8d-9cd4-412c-f9f7-2073b44e197b"
   },
   "outputs": [
    {
     "data": {
      "image/png": "[encoded data removed]",
      "text/plain": [
       "<Figure size 504x288 with 1 Axes>"
      ]
     },
     "metadata": {
      "needs_background": "light"
     },
     "output_type": "display_data"
    }
   ],
   "source": [
    "model_performance_MAE = {\n",
    "    'SVD':1.784,\n",
    "    'KNNBaseline':1.999,\n",
    "    'KNNWithMeans':2.1,\n",
    "    'CoClustering':2.16\n",
    "}\n",
    "\n",
    "models = list(model_performance_MAE.keys())\n",
    "mae = list(model_performance_MAE.values())\n",
    "  \n",
    "fig = plt.figure(figsize = (7, 4))\n",
    " \n",
    "# creating the bar plot\n",
    "plt.bar(models, mae, color ='blue',\n",
    "        width = 0.7)\n",
    " \n",
    "plt.title(\"MAE of Optimized Models\")\n",
    "plt.ylabel(\"MAE\")\n",
    "plt.xlabel(\"Models\")\n",
    "plt.show()"
   ]
  },
  {
   "cell_type": "markdown",
   "metadata": {
    "id": "ydcGDrAuu4S9"
   },
   "source": [
    "# Final Model\n",
    "\n",
    "## [Final_model](Final_model.ipynb)\n",
    "\n",
    "With the above perfomance metrics examined, it looks like the model with the best performance is SVD with un-augmented scores. For our final data we used the un-augmented scores, containing 8M+ ratings with 2.6k users and 1M songs.\n",
    "\n",
    "With that model and parameters, we were able to score the below metrics with a train_test_split.\n",
    "\n",
    "* Performance metric:\n",
    "  * RMSE: 2.424\n",
    "\n",
    "It's important to note here that although the augmented score SVD model performed marginally better in RMSE, it performed far worse in MAE and so I've decided to go with the unaugmented scores.\n",
    "\n",
    "An important thing to now look at is the size of the models available. The SVD model, trained off 1M songs, with the best metrics takes up a whopping 1.3Gb. This is obviously too large to implement in a lightweight model. If we're looking for a deployment with Streamlit, we have a max ram allocation of 512MB.\n",
    "\n",
    "As such, we will continue to work with SVD for the best metrics but will reduce the number of songs in the model to create a smaller model. The SVD model trained off of the top 10k songs is only 41Mb with an RMSE of 2.416"
   ]
  },
  {
   "cell_type": "code",
   "execution_count": null,
   "metadata": {
    "id": "pEC5hm6TvbfX"
   },
   "outputs": [],
   "source": [
    "big_model = dump.load(file_name=\"/drive/My Drive/Colab Notebooks/large_svd.pkl\")"
   ]
  },
  {
   "cell_type": "code",
   "execution_count": null,
   "metadata": {
    "id": "orvNcUt5Tz1D"
   },
   "outputs": [],
   "source": [
    "little_model = dump.load(file_name='/drive/My Drive/Colab Notebooks/small_svd.pkl')"
   ]
  },
  {
   "cell_type": "markdown",
   "metadata": {
    "id": "DSIL5UmrxNNF"
   },
   "source": [
    "# Deployment\n",
    "\n",
    "## [Streamlit App](https://mitchallison2-song-recommender-streamlitapp-tnfjie.streamlitapp.com/)\n",
    "\n",
    "For model deployment, I created a streamlit app. This app is able to take in and recommend songs from the top 10k songs using the small SVD model.\n",
    "\n",
    "This app allows the user to select an artist, a song from that artist, and a rating for those songs. Then they can add that song to a list of songs so that the model can work off of multiple songs.\n",
    "\n",
    "Then, when the user hits the 'Recommend' button, the app will add the new user's ratings to the dataframe. The app recomputes the SVD model from the small model and then gets the top 10 songs, as determined by the model thinking what that person will like the most.\n",
    "\n",
    "There is a short video showing the process available on this project's [README](README.md). I've also inserted the source code below as a long string, as it won't run in a notebook."
   ]
  },
  {
   "cell_type": "code",
   "execution_count": null,
   "metadata": {
    "id": "C-izHm0yxM7O"
   },
   "outputs": [],
   "source": [
    "app_source_code = \"\"\"\n",
    "import streamlit as st\n",
    "import pandas as pd\n",
    "\n",
    "from surprise.prediction_algorithms import SVD\n",
    "from surprise import Reader, Dataset\n",
    "\n",
    "# Goal: have person be able to select songs from list(top 10k most listened to songs)\n",
    "# Add these selections to a list\n",
    "# Feed this list to the model\n",
    "# Get the outputs of the model(top 5 recommended songs)\n",
    "# Convert these music numbers back to artist/song via the df\n",
    "# Display these songs\n",
    "# extra credit: integrate spotipy to play song demos\n",
    "\n",
    "top_songs = pd.read_csv(\"./data/song_table10k.csv\")\n",
    "top_songs.drop(columns=['Unnamed: 0'], inplace=True)\n",
    "\n",
    "original_data = pd.read_csv('./data/rated_listens_10k.csv')\n",
    "original_data.drop(columns=['Unnamed: 0'], inplace=True)\n",
    "\n",
    "\n",
    "# Use session state to save lists\n",
    "if 'rating_list_use' not in st.session_state:\n",
    "    st.session_state['rating_list_use'] = []\n",
    "\n",
    "if 'rating_list_show' not in st.session_state:\n",
    "    st.session_state['rating_list_show'] = []\n",
    "\n",
    "if 's_id_list' not in st.session_state:\n",
    "    st.session_state['s_id_list'] = []\n",
    "\n",
    "if 'top5_s_id' not in st.session_state:\n",
    "    st.session_state['top5_s_id'] = []\n",
    "\n",
    "\n",
    "\n",
    "# Instructions\n",
    "st.write(\"# MITCHMUSIC\")\n",
    "st.write(\"### Instructions\")\n",
    "st.write(\"#### Select a song and then give it a rating between 1-10.\")\n",
    "st.write(\"#### Add multiple songs to your list to help improve recommendations.\")\n",
    "st.write(\"#### Once you have some songs rated, hit the \\\"RECOMMEND SONGS\\\" button.\")\n",
    "st.write(\"#### The computer will calculate your potential top songs.\")\n",
    "st.write(\"#### Your top 10 song recommendations will appear, sorted by the predicted score.\")\n",
    "\n",
    "userID = 'ishoulddothisbeforethenightbefore'\n",
    "\n",
    "\n",
    "\n",
    "\n",
    "artist = st.selectbox(label='ARTIST NAME', options=top_songs['artist_name'].unique())\n",
    "\n",
    "temp_song_df = top_songs.loc[top_songs['artist_name']==artist]\n",
    "\n",
    "song = st.selectbox(label='SONG NAME', options=temp_song_df['track_name'])\n",
    "\n",
    "song_id = temp_song_df.loc[temp_song_df['track_name'] == song, 'song_no'].iloc[0]\n",
    "\n",
    "rating = st.slider(label='RATING', min_value=1, max_value=10)\n",
    "\n",
    "if st.button(label='ADD SONG TO SONG LIST'):\n",
    "    input_row_use = {'user_name':userID, 'song_no':song_id, 'rating':rating}\n",
    "    st.session_state['rating_list_use'].append(input_row_use)\n",
    "    input_row_show = {'artist':artist, 'song':song, 'rating':rating}\n",
    "    st.session_state['rating_list_show'].append(input_row_show)\n",
    "    st.session_state['s_id_list'].append(song_id)\n",
    "\n",
    "\n",
    "if st.button(label='RESET'):\n",
    "    st.session_state['rating_list_use'] = []\n",
    "    st.session_state['rating_list_show'] = []\n",
    "    st.session_state['s_id_list'] = []\n",
    "    st.session_state['recommended_song_df'] = pd.DataFrame()\n",
    "\n",
    "\n",
    "st.write('Current song list:')\n",
    "st.write(st.session_state['rating_list_show'])\n",
    "\n",
    "\n",
    "if st.button(label='RECOMMEND SONGS'):\n",
    "    # st.write(st.session_state['rating_list_use'])\n",
    "    st.write('Recommender progress:')\n",
    "\n",
    "    df_temp = pd.DataFrame.from_dict(st.session_state['rating_list_use'])\n",
    "    # st.write(df_temp)\n",
    "\n",
    "    new_ratings_df = pd.concat([original_data, df_temp], axis=0)\n",
    "    # st.write('Concat success')\n",
    "\n",
    "    # new_ratings_df = original_data.concat(st.session_state['rating_list_use'])\n",
    "    # st.write(new_ratings_df.tail())\n",
    "\n",
    "    st.write('Dataset building')\n",
    "    reader = Reader(rating_scale=(1,10))\n",
    "    new_data = Dataset.load_from_df(new_ratings_df, reader)\n",
    "    \n",
    "\n",
    "    # train a model using new df w/ optimal hyperparameters\n",
    "    st.write('Recalculating SVD')\n",
    "    model = SVD(n_factors= 150, reg_all=0.1)\n",
    "    model.fit(new_data.build_full_trainset())\n",
    "    st.write('Model Trained')\n",
    "\n",
    "    recommended_song_list = []\n",
    "    for s_id in original_data['song_no'].unique():\n",
    "        if s_id not in st.session_state['s_id_list']:\n",
    "            recommended_song_list.append( (s_id, model.predict(userID, s_id)[3]))\n",
    "    # st.write('recommended list created')\n",
    "\n",
    "    # order the predictions from highest to lowest rated\n",
    "    recommended_ranked_song_list = []\n",
    "    recommended_ranked_song_list = sorted(recommended_song_list, key=lambda x:x[1], reverse=True)\n",
    "    # st.write('recommended list sorted')\n",
    "\n",
    "    # get top songs\n",
    "    # list of tuples(song_no, rating)\n",
    "\n",
    "    top5 = recommended_ranked_song_list[:10]\n",
    "    st.session_state['top5_s_id'] = list(zip(*top5))[0]\n",
    "    top5_prob = list(zip(*top5))[1]\n",
    "\n",
    "    # modify df, show top songs\n",
    "    top_song_df = top_songs[top_songs['song_no'].isin(st.session_state['top5_s_id'])]\n",
    "\n",
    "    top_song_df['likely_rating'] = top_song_df['song_no'].map(dict(top5))\n",
    "\n",
    "    top_song_df.sort_values(by=['likely_rating'], ascending=False, inplace=True)\n",
    "    top_song_df.set_index('likely_rating', inplace=True)\n",
    "    top_song_df.drop(columns=['song_no'], inplace=True)\n",
    "\n",
    "    st.write('RECOMMENDED SONGS:')\n",
    "    st.write(top_song_df)\n",
    "\"\"\""
   ]
  },
  {
   "cell_type": "markdown",
   "metadata": {
    "id": "TfQCOKzWzdd-"
   },
   "source": [
    "# Next Steps\n",
    "\n",
    "For next steps, there are a lot of potential next steps to take:\n",
    "1. The first next step I would take is to redevelop this project on Spark or another distributed architechture. This would allow me to work with the full dataset and would help alleviate the issues that I consistently ran into this project in terms of data size and compute limits.\n",
    "2. I would like to include additional featues. Having the time the song was played is less significant when only looking at the 2 years of data I worked with, but if working with all of the data (2005-2018) it may become more pertinent to work with those additional data points.\n",
    "3. I would like to include additional features in the deployment as well. One of my stretch goals was to include spotify integration, in order to fetch a 15 second demo of the song, or automatically create a playlist from the recommended songs. I unfortunately ran out of time to add these additional features.\n",
    "4. I could continue to improve the model. Although an SVD model gives the best metrics, there are so many more models permutations to look at to see if they give better metrics. The small SVD model may also not be super deployable as it still takes some time/computation to get the results. I could get feedback on the app and, if one of the complaints is that the app takes too long, could use one of the other more standard models.\n",
    "5. Although the original data did not contain any metadata for the songs(length, loudness, dancability, etc.), I could use the spotify API to get additional data for the songs in order to provide a content based recommender as well."
   ]
  },
  {
   "cell_type": "markdown",
   "metadata": {
    "id": "AxhF43mQ045R"
   },
   "source": [
    "# Conclusion\n",
    "\n",
    "As a capstone, I will say that I think this project was the correct difficulty. Running into so many issues with data management and data preparation was very informative for how to approach data in a real life environment.\n",
    "\n",
    "From a technical sense, it's also exciting to be able to provide pretty good recommendations based on people's preferences. I've worked with the app a fair amount to see what songs it recommends and have already found a few novel tunes that I wouldn't have been able to find otherwise.\n",
    "\n",
    "I encourage you to try the app and find some new songs for your own listening.\n",
    "\n",
    "If you have any questions or concerns about this project, I also encourage you to reach out and connect with me at my [email](mitch.allison2@gmail.com)."
   ]
  }
 ],
 "metadata": {
  "colab": {
   "authorship_tag": "ABX9TyNxFQUNAl5lMs5Y/DNCGMur",
   "collapsed_sections": [],
   "provenance": []
  },
  "kernelspec": {
   "display_name": "Python 3",
   "language": "python",
   "name": "python3"
  },
  "language_info": {
   "codemirror_mode": {
    "name": "ipython",
    "version": 3
   },
   "file_extension": ".py",
   "mimetype": "text/x-python",
   "name": "python",
   "nbconvert_exporter": "python",
   "pygments_lexer": "ipython3",
   "version": "3.8.5"
  }
 },
 "nbformat": 4,
 "nbformat_minor": 1
}
